{
 "cells": [
  {
   "cell_type": "markdown",
   "id": "0d9cc415",
   "metadata": {},
   "source": [
    "## Note\n",
    "This notebook works on Kaggle Python image"
   ]
  },
  {
   "cell_type": "code",
   "execution_count": 7,
   "id": "9748902a",
   "metadata": {},
   "outputs": [],
   "source": [
    "import csv\n",
    "import requests\n",
    "import io\n",
    "import numpy as np\n",
    "import matplotlib as mpl\n",
    "mpl.use('Agg')\n",
    "import matplotlib.pyplot as plt\n",
    "from mpl_toolkits.basemap import Basemap"
   ]
  },
  {
   "cell_type": "code",
   "execution_count": 11,
   "id": "c23f3747",
   "metadata": {},
   "outputs": [],
   "source": [
    "# Classes for data\n",
    "class EarthQuake:\n",
    "    def __init__(self, row):\n",
    "        self.timestamp = row[0]\n",
    "        self.lat = float(row[1])\n",
    "        self.lon = float(row[2])\n",
    "        try:\n",
    "            self.magnitude = float(row[4])\n",
    "        except ValueError:\n",
    "            self.magnitude = 0\n",
    "    def __str__(self):\n",
    "        return f\"Earthquake: {self.magnitude} at {self.lat},{self.lon}\""
   ]
  },
  {
   "cell_type": "code",
   "execution_count": 18,
   "id": "6e4a9159",
   "metadata": {},
   "outputs": [],
   "source": [
    "def get_earthquake_data(url):\n",
    "    response = requests.get(url)\n",
    "    csvio = io.StringIO(response.text)\n",
    "    reader = csv.reader(csvio)\n",
    "    header = next(reader)\n",
    "    quakes = [EarthQuake(row) for row in reader]\n",
    "    quakes = [q for q in quakes if q.magnitude > 0]\n",
    "    return quakes"
   ]
  },
  {
   "cell_type": "code",
   "execution_count": 21,
   "id": "22137c56",
   "metadata": {},
   "outputs": [],
   "source": [
    "def get_marker(magnitude):\n",
    "    markersize =  magnitude * 2.5\n",
    "    if magnitude < 1.0:\n",
    "        return ('bo'), markersize\n",
    "    if magnitude < 3.0:\n",
    "        return ('go'), markersize\n",
    "    elif magnitude < 5.0:\n",
    "        return ('yo'), markersize\n",
    "    else:\n",
    "        return ('ro'), markersize"
   ]
  },
  {
   "cell_type": "code",
   "execution_count": 30,
   "id": "a4f595c8",
   "metadata": {},
   "outputs": [],
   "source": [
    "def create_png(url, outfile):\n",
    "    quakes = get_earthquake_data(url)\n",
    "    print(quakes[0].__dict__)\n",
    "    \n",
    "    mpl.rcParams['figure.figsize'] = '16, 12'\n",
    "    m = Basemap(projection='kav7', lon_0=-90, resolution='l', area_thresh=1000.0)\n",
    "    m.drawcoastlines()\n",
    "    m.drawcountries()\n",
    "    m.drawmapboundary(fill_color='0.3')\n",
    "    m.drawparallels(np.arange(-90.,99.,30.))\n",
    "    \n",
    "    start_day = quakes[-1].timestamp[:10]\n",
    "    end_day = quakes[0].timestamp[:10]\n",
    "    quakes.sort(key=lambda q: q.magnitude, reverse=True)\n",
    "    \n",
    "    for q in quakes:\n",
    "        x,y = m(q.lon, q.lat)\n",
    "        mcolor, msize = get_marker(q.magnitude)\n",
    "        m.plot(x, y, mcolor, markersize=msize)\n",
    "    \n",
    "    plt.title(f\"Earthquakes {start_day} to {end_day}\")\n",
    "    plt.savefig(outfile)"
   ]
  },
  {
   "cell_type": "code",
   "execution_count": 31,
   "id": "d8f20eba",
   "metadata": {},
   "outputs": [
    {
     "name": "stdout",
     "output_type": "stream",
     "text": [
      "{'timestamp': '2021-06-22T21:36:12.730Z', 'lat': 33.1601667, 'lon': -115.6385, 'magnitude': 1.41}\n"
     ]
    }
   ],
   "source": [
    "url = 'http://earthquake.usgs.gov/earthquakes/feed/v1.0/summary/all_week.csv'\n",
    "outfile = 'earthquakes.png'\n",
    "create_png(url, outfile)"
   ]
  },
  {
   "cell_type": "code",
   "execution_count": null,
   "id": "390ef356",
   "metadata": {},
   "outputs": [],
   "source": []
  }
 ],
 "metadata": {
  "kernelspec": {
   "display_name": "Python 3",
   "language": "python",
   "name": "python3"
  },
  "language_info": {
   "codemirror_mode": {
    "name": "ipython",
    "version": 3
   },
   "file_extension": ".py",
   "mimetype": "text/x-python",
   "name": "python",
   "nbconvert_exporter": "python",
   "pygments_lexer": "ipython3",
   "version": "3.7.10"
  }
 },
 "nbformat": 4,
 "nbformat_minor": 5
}
