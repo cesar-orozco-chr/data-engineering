{
 "cells": [
  {
   "cell_type": "markdown",
   "metadata": {
    "id": "34qCkyZAGzkR"
   },
   "source": [
    "## Writing CSV using the Python CSV library"
   ]
  },
  {
   "cell_type": "code",
   "execution_count": null,
   "metadata": {
    "id": "T9u6p8t6FUzN"
   },
   "outputs": [],
   "source": [
    "from faker import Faker\n",
    "import csv"
   ]
  },
  {
   "cell_type": "code",
   "execution_count": null,
   "metadata": {
    "id": "QC_fxAzvHZH_"
   },
   "outputs": [],
   "source": [
    "output = open('data.csv', 'w')\n",
    "fake = Faker()\n",
    "header = ['name', 'age', 'street', 'city', 'state', 'zip', 'lng', 'lat']\n",
    "writer=csv.writer(output)\n",
    "writer.writerow(header)\n",
    "for r in range(2000):\n",
    "  writer.writerow([fake.name(), fake.random_int(min=18, max=80, step=1),\n",
    "                  fake.street_address(), fake.city(), fake.state(),\n",
    "                  fake.zipcode(), fake.longitude(), fake.latitude()])\n",
    "output.close()"
   ]
  },
  {
   "cell_type": "markdown",
   "metadata": {
    "id": "PVIKHlxXIuAU"
   },
   "source": [
    "## Reading CSVs"
   ]
  },
  {
   "cell_type": "code",
   "execution_count": null,
   "metadata": {
    "id": "om6Ic5sHIwwu"
   },
   "outputs": [],
   "source": [
    "with open('data.csv') as f:\n",
    "  reader = csv.DictReader(f)\n",
    "  headers = next(reader)\n",
    "  for row in reader:\n",
    "    print(row['name'])"
   ]
  },
  {
   "cell_type": "markdown",
   "metadata": {
    "id": "GjC4H-c3JdoL"
   },
   "source": [
    "## Reading and writing CSV using pandas DataFrames"
   ]
  },
  {
   "cell_type": "code",
   "execution_count": 7,
   "metadata": {
    "id": "2Jp-Z_AdJbie"
   },
   "outputs": [],
   "source": [
    "import pandas as pd"
   ]
  },
  {
   "cell_type": "code",
   "execution_count": null,
   "metadata": {
    "colab": {
     "base_uri": "https://localhost:8080/",
     "height": 512
    },
    "id": "tkv9W7G8KFHV",
    "outputId": "c96c616f-a021-42b9-f1e1-88d37f2a44e0"
   },
   "outputs": [],
   "source": [
    "df = pd.read_csv('data.csv')\n",
    "df.head(10)"
   ]
  },
  {
   "cell_type": "code",
   "execution_count": null,
   "metadata": {
    "id": "nNpCx6m3KfmS"
   },
   "outputs": [],
   "source": [
    "data={'Name':['Paul','Bob','Susan','Yolanda'],\n",
    "      'Age':[23,45,18,21]}\n",
    "df = pd.DataFrame(data)\n",
    "df.to_csv('fromdf.csv', index=False)"
   ]
  },
  {
   "cell_type": "markdown",
   "metadata": {
    "id": "dJPnpyRXLKd_"
   },
   "source": [
    "## Writing JSON with Python"
   ]
  },
  {
   "cell_type": "code",
   "execution_count": 1,
   "metadata": {
    "id": "kYuMa6P4LNbS"
   },
   "outputs": [],
   "source": [
    "from faker import Faker\n",
    "import json"
   ]
  },
  {
   "cell_type": "code",
   "execution_count": 3,
   "metadata": {
    "id": "6UkpR8TOLjUr"
   },
   "outputs": [],
   "source": [
    "fake = Faker()\n",
    "all_data={}\n",
    "all_data['records']=[]\n",
    "for x in range(1000):\n",
    "  data={\n",
    "        \"name\":fake.name(), \n",
    "        \"age\":fake.random_int(min=18, max=80, step=1),\n",
    "        \"street\":fake.street_address(), \n",
    "        \"city\":fake.city(),\n",
    "        \"state\":fake.state(), \n",
    "        \"zip\":fake.zipcode(),\n",
    "        \"lng\":float(fake.longitude()), \n",
    "        \"lat\":float(fake.latitude())\n",
    "       }\n",
    "  all_data['records'].append(data)\n",
    "with open(\"data2.json\",\"w\") as f:\n",
    "    json.dump(all_data, f)"
   ]
  },
  {
   "cell_type": "code",
   "execution_count": 5,
   "metadata": {
    "id": "Pr1Ov-76NU4x"
   },
   "outputs": [
    {
     "data": {
      "text/plain": [
       "{'name': 'Laura Edwards',\n",
       " 'age': 74,\n",
       " 'street': '186 Stephen Neck',\n",
       " 'city': 'Michelleburgh',\n",
       " 'state': 'Indiana',\n",
       " 'zip': '66423',\n",
       " 'lng': 102.261045,\n",
       " 'lat': -67.597456}"
      ]
     },
     "execution_count": 5,
     "metadata": {},
     "output_type": "execute_result"
    }
   ],
   "source": [
    "with open(\"data2.json\", \"r\") as f:\n",
    "    data = json.load(f)\n",
    "data['records'][0]"
   ]
  },
  {
   "cell_type": "code",
   "execution_count": 6,
   "metadata": {},
   "outputs": [
    {
     "data": {
      "text/plain": [
       "'Laura Edwards'"
      ]
     },
     "execution_count": 6,
     "metadata": {},
     "output_type": "execute_result"
    }
   ],
   "source": [
    "data['records'][0]['name']"
   ]
  },
  {
   "cell_type": "markdown",
   "metadata": {},
   "source": [
    "## Pandas DataFrames"
   ]
  },
  {
   "cell_type": "code",
   "execution_count": 11,
   "metadata": {},
   "outputs": [
    {
     "data": {
      "text/plain": [
       "'{\"name\":{\"0\":\"Laura Edwards\",\"1\":\"Clifford Malone\"},\"age\":{\"0\":74,\"1\":79},\"street\":{\"0\":\"186 Stephen Neck\",\"1\":\"8624 James Island Apt. 049\"},\"city\":{\"0\":\"Michelleburgh\",\"1\":\"Billyburgh\"},\"state\":{\"0\":\"Indiana\",\"1\":\"Washington\"},\"zip\":{\"0\":\"66423\",\"1\":\"83996\"},\"lng\":{\"0\":102.261045,\"1\":-153.205167},\"lat\":{\"0\":-67.597456,\"1\":-30.0869795}}'"
      ]
     },
     "execution_count": 11,
     "metadata": {},
     "output_type": "execute_result"
    }
   ],
   "source": [
    "f = open(\"data2.json\",\"r\")\n",
    "data = pd_JSON.loads(f.read())\n",
    "# Normalize the JSON. Make it flatten to fit in a table\n",
    "df = pd.json_normalize(data, record_path='records')\n",
    "# When writting to JSON, you can pass the orient parameter, which determines the format of the JSON returned.\n",
    "df.head(2).to_json()"
   ]
  },
  {
   "cell_type": "code",
   "execution_count": null,
   "metadata": {},
   "outputs": [],
   "source": []
  }
 ],
 "metadata": {
  "colab": {
   "name": "Reading and writting files.ipynb",
   "provenance": [],
   "toc_visible": true
  },
  "kernelspec": {
   "display_name": "Python 3",
   "language": "python",
   "name": "python3"
  },
  "language_info": {
   "codemirror_mode": {
    "name": "ipython",
    "version": 3
   },
   "file_extension": ".py",
   "mimetype": "text/x-python",
   "name": "python",
   "nbconvert_exporter": "python",
   "pygments_lexer": "ipython3",
   "version": "3.9.2"
  }
 },
 "nbformat": 4,
 "nbformat_minor": 1
}
